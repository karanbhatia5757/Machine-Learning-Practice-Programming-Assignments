{
 "cells": [
  {
   "cell_type": "code",
   "execution_count": 30,
   "metadata": {
    "collapsed": true
   },
   "outputs": [],
   "source": [
    "import pandas as pd\n",
    "import numpy as np\n",
    "from sklearn import linear_model \n",
    "from sklearn import svm\n",
    "import matplotlib.pyplot as plt\n",
    "%matplotlib inline "
   ]
  },
  {
   "cell_type": "code",
   "execution_count": 156,
   "metadata": {
    "collapsed": true
   },
   "outputs": [],
   "source": [
    "df = pd.read_csv(\"Immunotherapy.csv\", na_values = '?')"
   ]
  },
  {
   "cell_type": "code",
   "execution_count": 157,
   "metadata": {
    "collapsed": true
   },
   "outputs": [],
   "source": [
    "df1 = df.dropna(axis = 1)"
   ]
  },
  {
   "cell_type": "code",
   "execution_count": 158,
   "metadata": {
    "collapsed": true
   },
   "outputs": [],
   "source": [
    "df2 = df1.values "
   ]
  },
  {
   "cell_type": "code",
   "execution_count": 159,
   "metadata": {},
   "outputs": [
    {
     "data": {
      "text/plain": [
       "(90, 8)"
      ]
     },
     "execution_count": 159,
     "metadata": {},
     "output_type": "execute_result"
    }
   ],
   "source": [
    "df2.shape"
   ]
  },
  {
   "cell_type": "code",
   "execution_count": 160,
   "metadata": {},
   "outputs": [],
   "source": [
    "X = df2[: , 0:7]\n",
    "Y = df2[:,7]\n"
   ]
  },
  {
   "cell_type": "code",
   "execution_count": 161,
   "metadata": {},
   "outputs": [
    {
     "data": {
      "text/plain": [
       "(90,)"
      ]
     },
     "execution_count": 161,
     "metadata": {},
     "output_type": "execute_result"
    }
   ],
   "source": [
    "Y.shape"
   ]
  },
  {
   "cell_type": "code",
   "execution_count": 162,
   "metadata": {
    "collapsed": true
   },
   "outputs": [],
   "source": [
    "X_train = X[0 : 60, :]\n",
    "Y_train = Y[0:60]\n",
    "X_test = X[60: , :]\n",
    "Y_test = Y[60:]"
   ]
  },
  {
   "cell_type": "code",
   "execution_count": 163,
   "metadata": {},
   "outputs": [
    {
     "data": {
      "text/plain": [
       "(60,)"
      ]
     },
     "execution_count": 163,
     "metadata": {},
     "output_type": "execute_result"
    }
   ],
   "source": [
    "Y_train.shape"
   ]
  },
  {
   "cell_type": "code",
   "execution_count": 164,
   "metadata": {
    "collapsed": true
   },
   "outputs": [],
   "source": [
    "acc_train_logreg = []"
   ]
  },
  {
   "cell_type": "code",
   "execution_count": 165,
   "metadata": {
    "collapsed": true
   },
   "outputs": [],
   "source": [
    "acc_test_logreg = []"
   ]
  },
  {
   "cell_type": "code",
   "execution_count": 166,
   "metadata": {
    "collapsed": true
   },
   "outputs": [],
   "source": [
    "c_logreg = []"
   ]
  },
  {
   "cell_type": "code",
   "execution_count": 167,
   "metadata": {
    "collapsed": true
   },
   "outputs": [],
   "source": [
    "def logreg_model(c , X_train , Y_train , X_test, Y_test):\n",
    "    logreg = linear_model.LogisticRegression(penalty = 'L1', C = c , solver = 'saga')\n",
    "    \n",
    "    logreg.fit(X_train, Y_train)\n",
    "    \n",
    "    print(X_train.shape)\n",
    "    \n",
    "    Yhat_train = logreg.predict(X_train)\n",
    "    acc_train = np.mean(Yhat_train == Y_train)\n",
    "    acc_train_logreg.append(acc_train)\n",
    "    print(\"Accuracy on training data = %f\" % acc_train)\n",
    "    \n",
    "    Yhat_test = logreg.predict(X_test)\n",
    "    acc_test = np.mean(Yhat_test == Y_test)\n",
    "    acc_test_logreg.append(acc_test)\n",
    "    print(\"Accuracy on test data = %f\" % acc_test)\n",
    "    \n",
    "    c_logreg.append(c)\n"
   ]
  },
  {
   "cell_type": "code",
   "execution_count": 174,
   "metadata": {},
   "outputs": [
    {
     "name": "stdout",
     "output_type": "stream",
     "text": [
      "(60, 7)\n",
      "Accuracy on training data = 0.800000\n",
      "Accuracy on test data = 0.766667\n"
     ]
    },
    {
     "name": "stderr",
     "output_type": "stream",
     "text": [
      "/Applications/anaconda3/lib/python3.6/site-packages/sklearn/linear_model/sag.py:326: ConvergenceWarning: The max_iter was reached which means the coef_ did not converge\n",
      "  \"the coef_ did not converge\", ConvergenceWarning)\n"
     ]
    }
   ],
   "source": [
    "logreg_model(100, X_train, Y_train, X_test, Y_test)"
   ]
  },
  {
   "cell_type": "code",
   "execution_count": 175,
   "metadata": {},
   "outputs": [
    {
     "data": {
      "text/plain": [
       "[0.80000000000000004,\n",
       " 0.80000000000000004,\n",
       " 0.80000000000000004,\n",
       " 0.80000000000000004,\n",
       " 0.80000000000000004,\n",
       " 0.80000000000000004,\n",
       " 0.80000000000000004]"
      ]
     },
     "execution_count": 175,
     "metadata": {},
     "output_type": "execute_result"
    }
   ],
   "source": [
    "acc_train_logreg"
   ]
  },
  {
   "cell_type": "code",
   "execution_count": 176,
   "metadata": {},
   "outputs": [
    {
     "data": {
      "text/plain": [
       "[0.76666666666666672,\n",
       " 0.76666666666666672,\n",
       " 0.76666666666666672,\n",
       " 0.76666666666666672,\n",
       " 0.76666666666666672,\n",
       " 0.76666666666666672,\n",
       " 0.76666666666666672]"
      ]
     },
     "execution_count": 176,
     "metadata": {},
     "output_type": "execute_result"
    }
   ],
   "source": [
    "acc_test_logreg"
   ]
  },
  {
   "cell_type": "code",
   "execution_count": 57,
   "metadata": {},
   "outputs": [
    {
     "data": {
      "text/plain": [
       "[0.0001, 0.001, 0.01, 0.1, 1, 10, 100]"
      ]
     },
     "execution_count": 57,
     "metadata": {},
     "output_type": "execute_result"
    }
   ],
   "source": [
    "c_logreg"
   ]
  },
  {
   "cell_type": "code",
   "execution_count": 58,
   "metadata": {},
   "outputs": [
    {
     "data": {
      "text/plain": [
       "[<matplotlib.lines.Line2D at 0x1018b92e8>]"
      ]
     },
     "execution_count": 58,
     "metadata": {},
     "output_type": "execute_result"
    },
    {
     "data": {
      "image/png": "[encoded data removed]",
      "text/plain": [
       "<matplotlib.figure.Figure at 0x100e091d0>"
      ]
     },
     "metadata": {},
     "output_type": "display_data"
    }
   ],
   "source": [
    "plt.plot(c_logreg, acc_train_logreg)"
   ]
  },
  {
   "cell_type": "code",
   "execution_count": 59,
   "metadata": {},
   "outputs": [
    {
     "data": {
      "text/plain": [
       "[<matplotlib.lines.Line2D at 0x10fc7d080>]"
      ]
     },
     "execution_count": 59,
     "metadata": {},
     "output_type": "execute_result"
    },
    {
     "data": {
      "image/png": "[encoded data removed]",
      "text/plain": [
       "<matplotlib.figure.Figure at 0x100e45a90>"
      ]
     },
     "metadata": {},
     "output_type": "display_data"
    }
   ],
   "source": [
    "plt.plot(c_logreg , acc_test_logreg )"
   ]
  },
  {
   "cell_type": "markdown",
   "metadata": {},
   "source": [
    "# Logistic Regression with L-2 :"
   ]
  },
  {
   "cell_type": "code",
   "execution_count": 177,
   "metadata": {
    "collapsed": true
   },
   "outputs": [],
   "source": [
    "acc_train_logreg2 = []"
   ]
  },
  {
   "cell_type": "code",
   "execution_count": 178,
   "metadata": {
    "collapsed": true
   },
   "outputs": [],
   "source": [
    "acc_test_logreg2 = []"
   ]
  },
  {
   "cell_type": "code",
   "execution_count": 179,
   "metadata": {
    "collapsed": true
   },
   "outputs": [],
   "source": [
    "c_logreg2 = []"
   ]
  },
  {
   "cell_type": "code",
   "execution_count": 180,
   "metadata": {
    "collapsed": true
   },
   "outputs": [],
   "source": [
    "def logreg2_model(c , X_train, Y_train, X_test, Y_test):\n",
    "    logreg2 = linear_model.LogisticRegression(C=c)\n",
    "    \n",
    "    logreg2.fit(X_train, Y_train)\n",
    "    \n",
    "    \n",
    "    Yhat_train = logreg2.predict(X_train)\n",
    "    acc_train= np.mean(Yhat_train == Y_train)\n",
    "    acc_train_logreg2.append(acc_train)\n",
    "    print(\"Accuracy on training data = %f\" % acc_train)\n",
    "    \n",
    "    Yhat_test = logreg2.predict(X_test)\n",
    "    acc_test = np.mean(Yhat_test == Y_test)\n",
    "    acc_test_logreg2.append(acc_test)\n",
    "    print(\"Accuracy on training data = %f\" % acc_test)\n",
    "    \n",
    "    c_logreg2.append(c)"
   ]
  },
  {
   "cell_type": "code",
   "execution_count": 188,
   "metadata": {},
   "outputs": [
    {
     "name": "stdout",
     "output_type": "stream",
     "text": [
      "Accuracy on training data = 0.833333\n",
      "Accuracy on training data = 0.833333\n"
     ]
    }
   ],
   "source": [
    "logreg2_model(100, X_train, Y_train, X_test, Y_test)"
   ]
  },
  {
   "cell_type": "code",
   "execution_count": 190,
   "metadata": {},
   "outputs": [
    {
     "name": "stdout",
     "output_type": "stream",
     "text": [
      "[0.76666666666666672, 0.76666666666666672, 0.76666666666666672, 0.76666666666666672, 0.80000000000000004, 0.83333333333333337, 0.83333333333333337]\n"
     ]
    }
   ],
   "source": [
    "print(acc_test_logreg2)"
   ]
  },
  {
   "cell_type": "code",
   "execution_count": null,
   "metadata": {},
   "outputs": [],
   "source": [
    "plt.plot(c_logreg2 , acc_train_logreg2 )"
   ]
  },
  {
   "cell_type": "code",
   "execution_count": null,
   "metadata": {},
   "outputs": [],
   "source": [
    "plt.plot(c_logreg2, acc_test_logreg2)"
   ]
  },
  {
   "cell_type": "markdown",
   "metadata": {},
   "source": [
    "# Logistic Regression with Polynomial Transformation\n",
    "Refer the given link to know how we can transform features.<br>\n",
    "http://scikit-learn.org/stable/modules/generated/sklearn.preprocessing.PolynomialFeatures.html"
   ]
  },
  {
   "cell_type": "code",
   "execution_count": 191,
   "metadata": {
    "collapsed": true
   },
   "outputs": [],
   "source": [
    "from sklearn.preprocessing import PolynomialFeatures"
   ]
  },
  {
   "cell_type": "code",
   "execution_count": 192,
   "metadata": {
    "collapsed": true
   },
   "outputs": [],
   "source": [
    "poly = PolynomialFeatures(2)"
   ]
  },
  {
   "cell_type": "code",
   "execution_count": 193,
   "metadata": {
    "collapsed": true
   },
   "outputs": [],
   "source": [
    "X_transformed_train = poly.fit_transform(X_train)\n",
    "X_transformed_test = poly.fit_transform(X_test)"
   ]
  },
  {
   "cell_type": "code",
   "execution_count": 194,
   "metadata": {},
   "outputs": [
    {
     "data": {
      "text/plain": [
       "(60, 36)"
      ]
     },
     "execution_count": 194,
     "metadata": {},
     "output_type": "execute_result"
    }
   ],
   "source": [
    "X_transformed_train.shape"
   ]
  },
  {
   "cell_type": "code",
   "execution_count": 195,
   "metadata": {
    "collapsed": true
   },
   "outputs": [],
   "source": [
    "# Calling logreg_model with transformed features.\n",
    "acc_train_logreg = []\n",
    "acc_test_logreg = []\n",
    "c_logreg = []"
   ]
  },
  {
   "cell_type": "code",
   "execution_count": 202,
   "metadata": {},
   "outputs": [
    {
     "name": "stdout",
     "output_type": "stream",
     "text": [
      "(60, 36)\n",
      "Accuracy on training data = 0.800000\n",
      "Accuracy on test data = 0.766667\n"
     ]
    },
    {
     "name": "stderr",
     "output_type": "stream",
     "text": [
      "/Applications/anaconda3/lib/python3.6/site-packages/sklearn/linear_model/sag.py:326: ConvergenceWarning: The max_iter was reached which means the coef_ did not converge\n",
      "  \"the coef_ did not converge\", ConvergenceWarning)\n"
     ]
    }
   ],
   "source": [
    "logreg_model(100, X_transformed_train, Y_train, X_transformed_test, Y_test)"
   ]
  },
  {
   "cell_type": "code",
   "execution_count": 204,
   "metadata": {},
   "outputs": [
    {
     "name": "stdout",
     "output_type": "stream",
     "text": [
      "[0.76666666666666672, 0.76666666666666672, 0.76666666666666672, 0.76666666666666672, 0.76666666666666672, 0.76666666666666672, 0.76666666666666672]\n"
     ]
    }
   ],
   "source": [
    "print(acc_test_logreg )"
   ]
  },
  {
   "cell_type": "code",
   "execution_count": 207,
   "metadata": {
    "collapsed": true
   },
   "outputs": [],
   "source": [
    "# Calling logreg_model2 with transformed features.\n",
    "acc_train_logreg2 = []\n",
    "acc_test_logreg2 = []\n",
    "c_logreg2 = []"
   ]
  },
  {
   "cell_type": "code",
   "execution_count": 214,
   "metadata": {},
   "outputs": [
    {
     "name": "stdout",
     "output_type": "stream",
     "text": [
      "Accuracy on training data = 0.900000\n",
      "Accuracy on training data = 0.700000\n"
     ]
    }
   ],
   "source": [
    "logreg2_model(100, X_transformed_train, Y_train, X_transformed_test, Y_test)"
   ]
  },
  {
   "cell_type": "code",
   "execution_count": 216,
   "metadata": {},
   "outputs": [
    {
     "name": "stdout",
     "output_type": "stream",
     "text": [
      "[0.6333333333333333, 0.6333333333333333, 0.66666666666666663, 0.69999999999999996, 0.69999999999999996, 0.69999999999999996, 0.69999999999999996]\n"
     ]
    }
   ],
   "source": [
    "print(acc_test_logreg2)"
   ]
  },
  {
   "cell_type": "code",
   "execution_count": null,
   "metadata": {},
   "outputs": [],
   "source": [
    "plt.plot(c_logreg2, acc_test_logreg2 )"
   ]
  },
  {
   "cell_type": "markdown",
   "metadata": {},
   "source": [
    "# SVM Linear"
   ]
  },
  {
   "cell_type": "code",
   "execution_count": 217,
   "metadata": {
    "collapsed": true
   },
   "outputs": [],
   "source": [
    "acc_train_svm_linear = []"
   ]
  },
  {
   "cell_type": "code",
   "execution_count": 218,
   "metadata": {
    "collapsed": true
   },
   "outputs": [],
   "source": [
    "acc_test_svm_linear = []"
   ]
  },
  {
   "cell_type": "code",
   "execution_count": 219,
   "metadata": {
    "collapsed": true
   },
   "outputs": [],
   "source": [
    "c_svm_linear = []"
   ]
  },
  {
   "cell_type": "code",
   "execution_count": 220,
   "metadata": {
    "collapsed": true
   },
   "outputs": [],
   "source": [
    "def svm_linear(c):\n",
    "    svc = svm.SVC(probability = False, kernel = 'linear', C = c)\n",
    "    \n",
    "    svc.fit(X_train,Y_train)\n",
    "    \n",
    "    Yhat_svc_train = svc.predict(X_train)\n",
    "    acc_train = np.mean(Yhat_svc_train == Y_train)\n",
    "    acc_train_svm_linear.append(acc_train)\n",
    "    print('Accuracy = {0:f}'.format(acc_train))\n",
    "    \n",
    "    Yhat_svc_test = svc.predict(X_test)\n",
    "    acc_test = np.mean(Yhat_svc_test == Y_test)\n",
    "    acc_test_svm_linear.append(acc_test)\n",
    "    print('Accuracy = {0:f}'.format(acc_test))\n",
    "    \n",
    "    c_svm_linear.append(c)\n",
    "        "
   ]
  },
  {
   "cell_type": "code",
   "execution_count": 227,
   "metadata": {},
   "outputs": [
    {
     "name": "stdout",
     "output_type": "stream",
     "text": [
      "Accuracy = 0.833333\n",
      "Accuracy = 0.833333\n"
     ]
    }
   ],
   "source": [
    "svm_linear(100)"
   ]
  },
  {
   "cell_type": "code",
   "execution_count": 229,
   "metadata": {
    "scrolled": true
   },
   "outputs": [
    {
     "name": "stdout",
     "output_type": "stream",
     "text": [
      "[0.76666666666666672, 0.76666666666666672, 0.76666666666666672, 0.80000000000000004, 0.83333333333333337, 0.83333333333333337, 0.83333333333333337]\n"
     ]
    }
   ],
   "source": [
    "print(acc_test_svm_linear)"
   ]
  },
  {
   "cell_type": "code",
   "execution_count": null,
   "metadata": {
    "collapsed": true
   },
   "outputs": [],
   "source": [
    "plt.plot(c_svm_linear , acc_train_svm_linear )\n"
   ]
  },
  {
   "cell_type": "code",
   "execution_count": null,
   "metadata": {
    "collapsed": true
   },
   "outputs": [],
   "source": [
    "plt.plot(c_svm_linear , acc_test_svm_linear )"
   ]
  },
  {
   "cell_type": "markdown",
   "metadata": {},
   "source": [
    "# RBF"
   ]
  },
  {
   "cell_type": "code",
   "execution_count": 230,
   "metadata": {
    "collapsed": true
   },
   "outputs": [],
   "source": [
    "def svm_rbf(c , g):\n",
    "    svc_rbf = svm.SVC(probability = False, kernel = 'rbf', C = c ,gamma = g )\n",
    "    \n",
    "    svc_rbf.fit(X_train, Y_train)\n",
    "    \n",
    "    Yhat_svc_rbf_train = svc_rbf.predict(X_train)\n",
    "    acc_train_rbf = np.mean(Yhat_svc_rbf_train == Y_train)\n",
    "    print('Train Accuracy = {0:f}'.format(acc_train_rbf))\n",
    "    \n",
    "    Yhat_svc_rbf_test = svc_rbf.predict(X_test)\n",
    "    acc_test_rbf = np.mean(Yhat_svc_rbf_test == Y_test)\n",
    "    print('Test Accuracy = {0:f}'.format(acc_test_rbf))"
   ]
  },
  {
   "cell_type": "code",
   "execution_count": 256,
   "metadata": {},
   "outputs": [
    {
     "name": "stdout",
     "output_type": "stream",
     "text": [
      "Train Accuracy = 1.000000\n",
      "Test Accuracy = 0.766667\n"
     ]
    }
   ],
   "source": [
    "svm_rbf(10,1)"
   ]
  },
  {
   "cell_type": "markdown",
   "metadata": {},
   "source": [
    "# Polynomial"
   ]
  },
  {
   "cell_type": "code",
   "execution_count": 137,
   "metadata": {
    "collapsed": true
   },
   "outputs": [],
   "source": [
    "svc_polynomial = svm.SVC(probability = False, kernel = 'poly', C = 2.8, degree = 2 )"
   ]
  },
  {
   "cell_type": "code",
   "execution_count": null,
   "metadata": {
    "collapsed": true
   },
   "outputs": [],
   "source": [
    "A = X_train[0:200,:]\n",
    "B = Y_train[0:200]\n",
    "C = X_test[0:100,:]\n",
    "D = Y_test[0:100]"
   ]
  },
  {
   "cell_type": "code",
   "execution_count": null,
   "metadata": {
    "collapsed": true
   },
   "outputs": [],
   "source": [
    "svc_polynomial.fit(A, B)"
   ]
  },
  {
   "cell_type": "code",
   "execution_count": null,
   "metadata": {},
   "outputs": [],
   "source": [
    "Yhat_svc_polynomial_train = svc_polynomial.predict(A)\n",
    "acc = np.mean(Yhat_svc_polynomial_train == B)\n",
    "print('Accuracy = {0:f}'.format(acc))"
   ]
  },
  {
   "cell_type": "code",
   "execution_count": null,
   "metadata": {
    "collapsed": true
   },
   "outputs": [],
   "source": [
    "Yhat_svc_polynomial_test = svc_polynomial.predict(C)\n",
    "acc = np.mean(Yhat_svc_polynomial_test == D)\n",
    "print('Accuracy = {0:f}'.format(acc))"
   ]
  },
  {
   "cell_type": "code",
   "execution_count": 257,
   "metadata": {
    "collapsed": true
   },
   "outputs": [],
   "source": [
    "acc_train_svm_poly = []\n",
    "acc_test_svm_poly = []\n",
    "c_svm_poly = []"
   ]
  },
  {
   "cell_type": "code",
   "execution_count": 258,
   "metadata": {
    "collapsed": true
   },
   "outputs": [],
   "source": [
    "def svm_polynomial(c):\n",
    "    svc_polynomial = svm.SVC(probability = False, kernel = 'poly', C = c, degree = 2 )\n",
    "    A = X_train[0:200,:]\n",
    "    B = Y_train[0:200]\n",
    "    C = X_test[0:100,:]\n",
    "    D = Y_test[0:100]\n",
    "    \n",
    "    svc_polynomial.fit(A, B)\n",
    "    \n",
    "    Yhat_svc_polynomial_train = svc_polynomial.predict(A)\n",
    "    acc_train = np.mean(Yhat_svc_polynomial_train == B)\n",
    "    acc_train_svm_poly.append(acc_train)\n",
    "    print('Training Accuracy = {0:f}'.format(acc_train))\n",
    "    \n",
    "    Yhat_svc_polynomial_test = svc_polynomial.predict(C)\n",
    "    acc_test = np.mean(Yhat_svc_polynomial_test == D)\n",
    "    acc_test_svm_poly.append(acc_test)\n",
    "    print('Test Accuracy = {0:f}'.format(acc_test))\n",
    "    \n",
    "    c_svm_poly.append(c)\n",
    "    "
   ]
  },
  {
   "cell_type": "code",
   "execution_count": 265,
   "metadata": {},
   "outputs": [
    {
     "name": "stdout",
     "output_type": "stream",
     "text": [
      "Training Accuracy = 0.866667\n",
      "Test Accuracy = 0.700000\n"
     ]
    }
   ],
   "source": [
    "svm_polynomial(100)"
   ]
  },
  {
   "cell_type": "code",
   "execution_count": 267,
   "metadata": {},
   "outputs": [
    {
     "name": "stdout",
     "output_type": "stream",
     "text": [
      "[0.76666666666666672, 0.69999999999999996, 0.66666666666666663, 0.69999999999999996, 0.59999999999999998, 0.66666666666666663, 0.69999999999999996]\n"
     ]
    }
   ],
   "source": [
    "print(acc_test_svm_poly)"
   ]
  },
  {
   "cell_type": "code",
   "execution_count": null,
   "metadata": {
    "collapsed": true
   },
   "outputs": [],
   "source": [
    "plt.plot(c_svm_poly , acc_train_svm_poly )"
   ]
  }
 ],
 "metadata": {
  "kernelspec": {
   "display_name": "Python 3",
   "language": "python",
   "name": "python3"
  },
  "language_info": {
   "codemirror_mode": {
    "name": "ipython",
    "version": 3
   },
   "file_extension": ".py",
   "mimetype": "text/x-python",
   "name": "python",
   "nbconvert_exporter": "python",
   "pygments_lexer": "ipython3",
   "version": "3.6.3"
  }
 },
 "nbformat": 4,
 "nbformat_minor": 2
}
